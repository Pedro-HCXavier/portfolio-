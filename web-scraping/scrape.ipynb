{
 "cells": [
  {
   "cell_type": "code",
   "execution_count": 8,
   "metadata": {},
   "outputs": [],
   "source": [
    "from bs4 import BeautifulSoup as bs\n",
    "import requests"
   ]
  },
  {
   "cell_type": "code",
   "execution_count": null,
   "metadata": {},
   "outputs": [],
   "source": [
    "#pegar todo o html da página\n",
    "url = 'https://pt.wikipedia.org/wiki/Lista_das_maiores_empresas_do_mundo'\n",
    "pagina_crua = requests.get(url)\n",
    "pagina = bs(pagina_crua.text, 'html')\n",
    "\n"
   ]
  },
  {
   "cell_type": "code",
   "execution_count": null,
   "metadata": {},
   "outputs": [],
   "source": [
    "# Pegar a parte da página que tem a tabela\n",
    "tabela = pagina.find_all('table')[1]\n",
    "tabela\n"
   ]
  },
  {
   "cell_type": "code",
   "execution_count": 34,
   "metadata": {},
   "outputs": [
    {
     "data": {
      "text/plain": [
       "['Posição', 'Empresa', 'País natal', 'Valor de mercado (em Milhares)[6]']"
      ]
     },
     "execution_count": 34,
     "metadata": {},
     "output_type": "execute_result"
    }
   ],
   "source": [
    "# os titulos da tabela estão dentro dos td dentro do primeiro tr\n",
    "linha_titulos_tabela = tabela.find_all('tr')[0]\n",
    "titulos_tabela = [titulos.text.strip() for titulos in linha_titulos_tabela]\n",
    "titulos_limpos = list(filter(lambda x: x, titulos_tabela))\n",
    "titulos_limpos\n"
   ]
  },
  {
   "cell_type": "code",
   "execution_count": 36,
   "metadata": {},
   "outputs": [],
   "source": [
    "import pandas as pd"
   ]
  },
  {
   "cell_type": "code",
   "execution_count": 37,
   "metadata": {},
   "outputs": [
    {
     "data": {
      "text/html": [
       "<div>\n",
       "<style scoped>\n",
       "    .dataframe tbody tr th:only-of-type {\n",
       "        vertical-align: middle;\n",
       "    }\n",
       "\n",
       "    .dataframe tbody tr th {\n",
       "        vertical-align: top;\n",
       "    }\n",
       "\n",
       "    .dataframe thead th {\n",
       "        text-align: right;\n",
       "    }\n",
       "</style>\n",
       "<table border=\"1\" class=\"dataframe\">\n",
       "  <thead>\n",
       "    <tr style=\"text-align: right;\">\n",
       "      <th></th>\n",
       "      <th>Posição</th>\n",
       "      <th>Empresa</th>\n",
       "      <th>País natal</th>\n",
       "      <th>Valor de mercado (em Milhares)[6]</th>\n",
       "    </tr>\n",
       "  </thead>\n",
       "  <tbody>\n",
       "  </tbody>\n",
       "</table>\n",
       "</div>"
      ],
      "text/plain": [
       "Empty DataFrame\n",
       "Columns: [Posição, Empresa, País natal, Valor de mercado (em Milhares)[6]]\n",
       "Index: []"
      ]
     },
     "execution_count": 37,
     "metadata": {},
     "output_type": "execute_result"
    }
   ],
   "source": [
    "df = pd.DataFrame(columns=titulos_limpos)\n",
    "df"
   ]
  },
  {
   "cell_type": "code",
   "execution_count": 39,
   "metadata": {},
   "outputs": [],
   "source": [
    "# encontrar todas as linhas da tabela e colocar no dataframe\n",
    "\n",
    "linhas = tabela.find_all('tr')\n",
    "for dados_linhas in linhas[1:]:\n",
    "    dados = dados_linhas.find_all('td')\n",
    "    dados_individuais = [dados.text.strip() for dados in dados]\n",
    "\n",
    "    tamanho = len(df)\n",
    "    df.loc[tamanho] = dados_individuais\n"
   ]
  },
  {
   "cell_type": "code",
   "execution_count": 40,
   "metadata": {},
   "outputs": [
    {
     "data": {
      "text/html": [
       "<div>\n",
       "<style scoped>\n",
       "    .dataframe tbody tr th:only-of-type {\n",
       "        vertical-align: middle;\n",
       "    }\n",
       "\n",
       "    .dataframe tbody tr th {\n",
       "        vertical-align: top;\n",
       "    }\n",
       "\n",
       "    .dataframe thead th {\n",
       "        text-align: right;\n",
       "    }\n",
       "</style>\n",
       "<table border=\"1\" class=\"dataframe\">\n",
       "  <thead>\n",
       "    <tr style=\"text-align: right;\">\n",
       "      <th></th>\n",
       "      <th>Posição</th>\n",
       "      <th>Empresa</th>\n",
       "      <th>País natal</th>\n",
       "      <th>Valor de mercado (em Milhares)[6]</th>\n",
       "    </tr>\n",
       "  </thead>\n",
       "  <tbody>\n",
       "    <tr>\n",
       "      <th>0</th>\n",
       "      <td>1</td>\n",
       "      <td>Walmart</td>\n",
       "      <td>Estados Unidos</td>\n",
       "      <td>US$ 995 800 000</td>\n",
       "    </tr>\n",
       "    <tr>\n",
       "      <th>1</th>\n",
       "      <td>2</td>\n",
       "      <td>ExxonMobil</td>\n",
       "      <td>Estados Unidos</td>\n",
       "      <td>US$ 375 000 000</td>\n",
       "    </tr>\n",
       "    <tr>\n",
       "      <th>2</th>\n",
       "      <td>3</td>\n",
       "      <td>Google</td>\n",
       "      <td>Estados Unidos</td>\n",
       "      <td>US$ 354 965 000</td>\n",
       "    </tr>\n",
       "    <tr>\n",
       "      <th>3</th>\n",
       "      <td>4</td>\n",
       "      <td>Microsoft</td>\n",
       "      <td>Estados Unidos</td>\n",
       "      <td>US$ 334 965 000</td>\n",
       "    </tr>\n",
       "    <tr>\n",
       "      <th>4</th>\n",
       "      <td>5</td>\n",
       "      <td>PetroChina Company</td>\n",
       "      <td>China</td>\n",
       "      <td>US$ 330 000 000</td>\n",
       "    </tr>\n",
       "    <tr>\n",
       "      <th>...</th>\n",
       "      <td>...</td>\n",
       "      <td>...</td>\n",
       "      <td>...</td>\n",
       "      <td>...</td>\n",
       "    </tr>\n",
       "    <tr>\n",
       "      <th>341</th>\n",
       "      <td>342</td>\n",
       "      <td>Cerner</td>\n",
       "      <td>Estados Unidos</td>\n",
       "      <td>US$ 25 552 000</td>\n",
       "    </tr>\n",
       "    <tr>\n",
       "      <th>342</th>\n",
       "      <td>343</td>\n",
       "      <td>British Sky Broadcasting</td>\n",
       "      <td>Reino Unido</td>\n",
       "      <td>US$ 25 733 000</td>\n",
       "    </tr>\n",
       "    <tr>\n",
       "      <th>343</th>\n",
       "      <td>344</td>\n",
       "      <td>Organização Odebrecht</td>\n",
       "      <td>Brasil</td>\n",
       "      <td>US$ 25 536 000</td>\n",
       "    </tr>\n",
       "    <tr>\n",
       "      <th>344</th>\n",
       "      <td>345</td>\n",
       "      <td>Repsol</td>\n",
       "      <td>Espanha</td>\n",
       "      <td>US$ 25 450 000</td>\n",
       "    </tr>\n",
       "    <tr>\n",
       "      <th>345</th>\n",
       "      <td>346</td>\n",
       "      <td>Volvo</td>\n",
       "      <td>Suécia</td>\n",
       "      <td>US$ 25 400 000</td>\n",
       "    </tr>\n",
       "  </tbody>\n",
       "</table>\n",
       "<p>346 rows × 4 columns</p>\n",
       "</div>"
      ],
      "text/plain": [
       "    Posição                   Empresa      País natal  \\\n",
       "0         1                   Walmart  Estados Unidos   \n",
       "1         2                ExxonMobil  Estados Unidos   \n",
       "2         3                    Google  Estados Unidos   \n",
       "3         4                 Microsoft  Estados Unidos   \n",
       "4         5        PetroChina Company           China   \n",
       "..      ...                       ...             ...   \n",
       "341     342                    Cerner  Estados Unidos   \n",
       "342     343  British Sky Broadcasting     Reino Unido   \n",
       "343     344     Organização Odebrecht          Brasil   \n",
       "344     345                    Repsol         Espanha   \n",
       "345     346                     Volvo          Suécia   \n",
       "\n",
       "    Valor de mercado (em Milhares)[6]  \n",
       "0                     US$ 995 800 000  \n",
       "1                     US$ 375 000 000  \n",
       "2                     US$ 354 965 000  \n",
       "3                     US$ 334 965 000  \n",
       "4                     US$ 330 000 000  \n",
       "..                                ...  \n",
       "341                    US$ 25 552 000  \n",
       "342                    US$ 25 733 000  \n",
       "343                    US$ 25 536 000  \n",
       "344                    US$ 25 450 000  \n",
       "345                    US$ 25 400 000  \n",
       "\n",
       "[346 rows x 4 columns]"
      ]
     },
     "execution_count": 40,
     "metadata": {},
     "output_type": "execute_result"
    }
   ],
   "source": [
    "df"
   ]
  },
  {
   "cell_type": "code",
   "execution_count": null,
   "metadata": {},
   "outputs": [],
   "source": [
    "# agora eu tenho um dataframe com todos os dados da tabela\n",
    "# e posso converter esse dataframe em uma planilha excel\n",
    "\n",
    "df.to_excel('maiores_empresas_do_mundo.xlsx', index=False) "
   ]
  }
 ],
 "metadata": {
  "kernelspec": {
   "display_name": "Python 3.8.10 64-bit",
   "language": "python",
   "name": "python3"
  },
  "language_info": {
   "codemirror_mode": {
    "name": "ipython",
    "version": 3
   },
   "file_extension": ".py",
   "mimetype": "text/x-python",
   "name": "python",
   "nbconvert_exporter": "python",
   "pygments_lexer": "ipython3",
   "version": "3.8.10"
  },
  "orig_nbformat": 4,
  "vscode": {
   "interpreter": {
    "hash": "306c64115fd38f8871749345b2e47439e28d706dbffaf94812f9e9bbe25dd0ea"
   }
  }
 },
 "nbformat": 4,
 "nbformat_minor": 2
}
